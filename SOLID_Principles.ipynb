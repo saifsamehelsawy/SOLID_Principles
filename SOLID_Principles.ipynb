{
  "cells": [
    {
      "cell_type": "markdown",
      "id": "1a9181d9",
      "metadata": {},
      "source": [
        "# 📘 SOLID Principles\n",
        "In this notebook, we will explain the **SOLID Principles** of Object-Oriented Programming with examples in Python.\n"
      ]
    },
    {
      "cell_type": "markdown",
      "id": "4197fc89",
      "metadata": {},
      "source": [
        "## 1️⃣ Single Responsibility Principle (SRP)\n",
        "A class should have **only one reason to change**, meaning it should have only one job.\n"
      ]
    },
    {
      "cell_type": "code",
      "execution_count": null,
      "id": "e95e5c0d",
      "metadata": {},
      "outputs": [],
      "source": [
        "class InvoicePrinter:\n",
        "    def print_invoice(self, invoice):\n",
        "        print(f\"Printing invoice: {invoice}\")\n",
        "\n",
        "class InvoiceSaver:\n",
        "    def save_to_file(self, invoice):\n",
        "        print(f\"Saving invoice {invoice} to file\")\n",
        "\n",
        "# Example usage\n",
        "printer = InvoicePrinter()\n",
        "printer.print_invoice(\"#1234\")\n",
        "\n",
        "saver = InvoiceSaver()\n",
        "saver.save_to_file(\"#1234\")"
      ]
    },
    {
      "cell_type": "markdown",
      "id": "68fed208",
      "metadata": {},
      "source": [
        "## 2️⃣ Open/Closed Principle (OCP)\n",
        "Software entities (classes, modules, functions) should be **open for extension but closed for modification**.\n"
      ]
    },
    {
      "cell_type": "code",
      "execution_count": null,
      "id": "1e788c02",
      "metadata": {},
      "outputs": [],
      "source": [
        "from abc import ABC, abstractmethod\n",
        "\n",
        "class Shape(ABC):\n",
        "    @abstractmethod\n",
        "    def area(self):\n",
        "        pass\n",
        "\n",
        "class Circle(Shape):\n",
        "    def __init__(self, radius):\n",
        "        self.radius = radius\n",
        "    def area(self):\n",
        "        return 3.14 * self.radius * self.radius\n",
        "\n",
        "class Rectangle(Shape):\n",
        "    def __init__(self, width, height):\n",
        "        self.width = width\n",
        "        self.height = height\n",
        "    def area(self):\n",
        "        return self.width * self.height\n",
        "\n",
        "# Example usage\n",
        "shapes = [Circle(5), Rectangle(4,6)]\n",
        "for shape in shapes:\n",
        "    print(shape.area())"
      ]
    },
    {
      "cell_type": "markdown",
      "id": "5ed6e05b",
      "metadata": {},
      "source": [
        "## 3️⃣ Liskov Substitution Principle (LSP)\n",
        "Objects of a superclass should be **replaceable with objects of a subclass** without affecting correctness.\n"
      ]
    },
    {
      "cell_type": "code",
      "execution_count": null,
      "id": "e7f5d2fb",
      "metadata": {},
      "outputs": [],
      "source": [
        "class Bird:\n",
        "    def fly(self):\n",
        "        print(\"This bird can fly\")\n",
        "\n",
        "class Sparrow(Bird):\n",
        "    pass\n",
        "\n",
        "class Ostrich(Bird):\n",
        "    def fly(self):\n",
        "        raise Exception(\"Ostrich can't fly\")\n",
        "\n",
        "# Example\n",
        "bird = Sparrow()\n",
        "bird.fly()\n",
        "\n",
        "# Ostrich violates LSP if treated the same as Bird"
      ]
    },
    {
      "cell_type": "markdown",
      "id": "4e3f2cda",
      "metadata": {},
      "source": [
        "## 4️⃣ Interface Segregation Principle (ISP)\n",
        "Clients should not be forced to depend upon interfaces they do not use.\n"
      ]
    },
    {
      "cell_type": "code",
      "execution_count": null,
      "id": "9c028e70",
      "metadata": {},
      "outputs": [],
      "source": [
        "class Workable:\n",
        "    def work(self):\n",
        "        pass\n",
        "\n",
        "class Eatable:\n",
        "    def eat(self):\n",
        "        pass\n",
        "\n",
        "class Human(Workable, Eatable):\n",
        "    def work(self):\n",
        "        print(\"Human working\")\n",
        "    def eat(self):\n",
        "        print(\"Human eating\")\n",
        "\n",
        "class Robot(Workable):\n",
        "    def work(self):\n",
        "        print(\"Robot working\")\n",
        "\n",
        "# Example usage\n",
        "human = Human()\n",
        "human.work()\n",
        "human.eat()\n",
        "\n",
        "robot = Robot()\n",
        "robot.work()"
      ]
    },
    {
      "cell_type": "markdown",
      "id": "d2222db9",
      "metadata": {},
      "source": [
        "## 5️⃣ Dependency Inversion Principle (DIP)\n",
        "High-level modules should not depend on low-level modules. Both should depend on abstractions.\n"
      ]
    },
    {
      "cell_type": "code",
      "execution_count": null,
      "id": "45b7ca67",
      "metadata": {},
      "outputs": [],
      "source": [
        "class Switchable:\n",
        "    def turn_on(self):\n",
        "        pass\n",
        "    def turn_off(self):\n",
        "        pass\n",
        "\n",
        "class LightBulb(Switchable):\n",
        "    def turn_on(self):\n",
        "        print(\"LightBulb turned ON\")\n",
        "    def turn_off(self):\n",
        "        print(\"LightBulb turned OFF\")\n",
        "\n",
        "class Switch:\n",
        "    def __init__(self, device: Switchable):\n",
        "        self.device = device\n",
        "    def operate(self, action):\n",
        "        if action == \"ON\":\n",
        "            self.device.turn_on()\n",
        "        else:\n",
        "            self.device.turn_off()\n",
        "\n",
        "# Example usage\n",
        "bulb = LightBulb()\n",
        "switch = Switch(bulb)\n",
        "switch.operate(\"ON\")\n",
        "switch.operate(\"OFF\")"
      ]
    }
  ],
  "metadata": {
    "kernelspec": {
      "display_name": "Python 3",
      "language": "python",
      "name": "python3"
    },
    "language_info": {
      "name": "python",
      "version": "3.10"
    }
  },
  "nbformat": 4,
  "nbformat_minor": 5
}
